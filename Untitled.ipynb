{
 "cells": [
  {
   "cell_type": "code",
   "execution_count": 2,
   "id": "196f47ce-3081-4916-8d12-aa731dbb1db4",
   "metadata": {},
   "outputs": [
    {
     "name": "stderr",
     "output_type": "stream",
     "text": [
      "WARNING: No IPv4 address found on anpi1 !\n",
      "WARNING: No IPv4 address found on anpi0 !\n",
      "WARNING: more No IPv4 address found on ap1 !\n"
     ]
    }
   ],
   "source": [
    "from scapy.all import *"
   ]
  },
  {
   "cell_type": "code",
   "execution_count": 6,
   "id": "d54891f9-5513-483c-b294-97832fd17e2d",
   "metadata": {},
   "outputs": [],
   "source": [
    "file = 'd2.pcap'\n",
    "data = rdpcap(file)"
   ]
  },
  {
   "cell_type": "code",
   "execution_count": null,
   "id": "81c06c63-fcc6-4e46-a1c8-6fbe69c2e9af",
   "metadata": {},
   "outputs": [],
   "source": []
  },
  {
   "cell_type": "code",
   "execution_count": 8,
   "id": "cd84195d-ec39-4ba2-909c-ccf4321675fe",
   "metadata": {},
   "outputs": [
    {
     "name": "stdout",
     "output_type": "stream",
     "text": [
      "###[ Ethernet ]### \n",
      "  dst       = 00:10:f3:32:e7:ba\n",
      "  src       = 00:00:00:00:00:01\n",
      "  type      = 0x2007\n",
      "###[ Raw ]### \n",
      "     load      = '`I\\x00\\x01\\x00\\x00\\x00\\x00\\x18\\x00\\x00\\x00\\x01\\x00\\x0c\\\\xcc\\\\xcc\\\\xcc\\x00\"\\\\xbd/C\\\\x81\\x01j\\\\xaa\\\\xaa\\x03\\x00\\x00\\x0c \\x00\\x02\\\\xb4ˎ\\x00\\x01\\x00\\nSwitch\\x00\\x05\\x00\\\\xbeCisco IOS Software, C2960 Software (C2960-LANBASEK9-M), Version 12.2(37)SE, RELEASE SOFTWARE (fc2)\\nCopyright (c) 1986-2007 by Cisco Systems, Inc.\\nCompiled Thu 10-May-07 16:43 by antonino\\x00\\x06\\x00\\x19cisco WS-C2960-24TT-L\\x00\\x02\\x00\\x11\\x00\\x00\\x00\\x01\\x01\\x01\\\\xcc\\x00\\x04\\x00\\x00\\x00\\x00\\x00\\x03\\x00\\x13FastEthernet0/1\\x00\\x04\\x00\\x08\\x00\\x00\\x00(\\x00\\x08\\x00$\\x00\\x00\\x0c\\x01\\x12\\x00\\x00\\x00\\x00\\\\xff\\\\xff\\\\xff\\\\xff\\x01\\x02!\\\\xff\\x00\\x00\\x00\\x00\\x00\\x00\\x00\"\\\\xbd/C\\\\x80\\\\xff\\x00\\x00\\x00\\t\\x00\\x07UPM\\x00\\n\\x00\\x06\\x00\\x01\\x00\\x0b\\x00\\x05\\x01\\x00\\x12\\x00\\x05\\x00\\x00\\x13\\x00\\x05\\x00\\x00\\x16\\x00\\x11\\x00\\x00\\x00\\x01\\x01\\x01\\\\xcc\\x00\\x04\\x00\\x00\\x00\\x00'\n",
      "\n",
      "None\n"
     ]
    }
   ],
   "source": [
    "print(data[0].show());"
   ]
  },
  {
   "cell_type": "code",
   "execution_count": null,
   "id": "4ab582d6-4cf7-4ebf-bd80-68cece74c282",
   "metadata": {},
   "outputs": [],
   "source": []
  },
  {
   "cell_type": "code",
   "execution_count": null,
   "id": "439e34ba-9223-4eee-9090-3ae3b342cb41",
   "metadata": {},
   "outputs": [],
   "source": []
  },
  {
   "cell_type": "code",
   "execution_count": null,
   "id": "92441c83-6d7c-40d8-9940-340e2987f9d2",
   "metadata": {},
   "outputs": [],
   "source": []
  }
 ],
 "metadata": {
  "kernelspec": {
   "display_name": "Python 3",
   "language": "python",
   "name": "python3"
  },
  "language_info": {
   "codemirror_mode": {
    "name": "ipython",
    "version": 3
   },
   "file_extension": ".py",
   "mimetype": "text/x-python",
   "name": "python",
   "nbconvert_exporter": "python",
   "pygments_lexer": "ipython3",
   "version": "3.9.2"
  }
 },
 "nbformat": 4,
 "nbformat_minor": 5
}
